{
  "nbformat": 4,
  "nbformat_minor": 0,
  "metadata": {
    "colab": {
      "provenance": []
    },
    "kernelspec": {
      "name": "python3",
      "display_name": "Python 3"
    },
    "language_info": {
      "name": "python"
    }
  },
  "cells": [
    {
      "cell_type": "markdown",
      "source": [
        "# Open Ended Lab 02 (DSA)\n",
        "# Roll Number : 22F-BSAI-29\n",
        "# Submitted to : Sir Hamza"
      ],
      "metadata": {
        "id": "5PtysFxoe14a"
      }
    },
    {
      "cell_type": "code",
      "execution_count": 3,
      "metadata": {
        "colab": {
          "base_uri": "https://localhost:8080/"
        },
        "id": "FNdDy0RxedfJ",
        "outputId": "6a552109-de82-40a1-eee7-66e6bcaf6dee"
      },
      "outputs": [
        {
          "output_type": "stream",
          "name": "stdout",
          "text": [
            "Input the pattern : aabb\n",
            "Input the string: moiz moiz sami sami\n",
            "Output: true\n"
          ]
        }
      ],
      "source": [
        "def check_pattern(pat, s):\n",
        "    # Split words\n",
        "    words = []\n",
        "    word = \"\"\n",
        "    for char in s:\n",
        "        if char == \" \":\n",
        "            if word:\n",
        "                words.append(word)\n",
        "                word = \"\"\n",
        "        else:\n",
        "            word += char\n",
        "    if word:\n",
        "        words.append(word)\n",
        "\n",
        "    # If the length of words is not equal to the pattern, return false\n",
        "    if len(words) != len(pattern):\n",
        "        return False\n",
        "\n",
        "    # Hashmaps to track mappings\n",
        "    c2w = {}  # char to word\n",
        "    w2c = {}  # word to char\n",
        "\n",
        "    # Loop through pattern and words\n",
        "    for i in range(len(pat)):\n",
        "        char = pat[i]\n",
        "        word = words[i]\n",
        "\n",
        "        # Check char to word mapping\n",
        "        if char in c2w:\n",
        "            if c2w[char] != word:\n",
        "                return False\n",
        "        else:\n",
        "            c2w[char] = word\n",
        "\n",
        "        # Check word to char mapping\n",
        "        if word in w2c:\n",
        "            if w2c[word] != char:\n",
        "                return False\n",
        "        else:\n",
        "            w2c[word] = char\n",
        "\n",
        "    # If mappings are consistent, return true\n",
        "    return True\n",
        "\n",
        "\n",
        "# Input for pattern\n",
        "pattern = input(\"Input the pattern : \").strip()\n",
        "\n",
        "# Input for string\n",
        "s = input(\"Input the string: \").strip()\n",
        "\n",
        "# Function calling\n",
        "if check_pattern(pattern, s):\n",
        "    print(\"Output: true\")\n",
        "else:\n",
        "    print(\"Output: false\")\n"
      ]
    },
    {
      "cell_type": "markdown",
      "source": [
        "# Checking False condition\n"
      ],
      "metadata": {
        "id": "0k1lX2Gpsxh6"
      }
    },
    {
      "cell_type": "code",
      "source": [
        "def check_pattern(pat, s):\n",
        "    # Split words\n",
        "    words = []\n",
        "    word = \"\"\n",
        "    for char in s:\n",
        "        if char == \" \":\n",
        "            if word:\n",
        "                words.append(word)\n",
        "                word = \"\"\n",
        "        else:\n",
        "            word += char\n",
        "    if word:\n",
        "        words.append(word)\n",
        "\n",
        "    # If the length of words is not equal to the pattern, return false\n",
        "    if len(words) != len(pattern):\n",
        "        return False\n",
        "\n",
        "    # Hashmaps to track mappings\n",
        "    c2w = {}  # char to word\n",
        "    w2c = {}  # word to char\n",
        "\n",
        "    # Loop through pattern and words\n",
        "    for i in range(len(pat)):\n",
        "        char = pat[i]\n",
        "        word = words[i]\n",
        "\n",
        "        # Check char to word mapping\n",
        "        if char in c2w:\n",
        "            if c2w[char] != word:\n",
        "                return False\n",
        "        else:\n",
        "            c2w[char] = word\n",
        "\n",
        "        # Check word to char mapping\n",
        "        if word in w2c:\n",
        "            if w2c[word] != char:\n",
        "                return False\n",
        "        else:\n",
        "            w2c[word] = char\n",
        "\n",
        "    # If mappings are consistent, return true\n",
        "    return True\n",
        "\n",
        "\n",
        "# Input for pattern\n",
        "pattern = input(\"Input the pattern : \").strip()\n",
        "\n",
        "# Input for string\n",
        "s = input(\"Input the string: \").strip()\n",
        "\n",
        "# Function calling\n",
        "if check_pattern(pattern, s):\n",
        "    print(\"Output: true\")\n",
        "else:\n",
        "    print(\"Output: false\")\n"
      ],
      "metadata": {
        "colab": {
          "base_uri": "https://localhost:8080/"
        },
        "id": "axew7d9ZsrzE",
        "outputId": "3f1dea89-20bc-4662-8748-ff5fb3ad6809"
      },
      "execution_count": 4,
      "outputs": [
        {
          "output_type": "stream",
          "name": "stdout",
          "text": [
            "Input the pattern : acxy\n",
            "Input the string: ali moiz ali sami\n",
            "Output: false\n"
          ]
        }
      ]
    },
    {
      "cell_type": "code",
      "source": [],
      "metadata": {
        "id": "S7vWc6hZnuHb"
      },
      "execution_count": null,
      "outputs": []
    }
  ]
}